{
 "cells": [
  {
   "cell_type": "code",
   "execution_count": 1,
   "id": "3e03f717",
   "metadata": {},
   "outputs": [
    {
     "name": "stdout",
     "output_type": "stream",
     "text": [
      "Hello India\n"
     ]
    }
   ],
   "source": [
    "print(\"Hello India\")"
   ]
  },
  {
   "cell_type": "code",
   "execution_count": 5,
   "id": "d5c142d6",
   "metadata": {},
   "outputs": [
    {
     "name": "stdout",
     "output_type": "stream",
     "text": [
      "Enter the ist number:5\n",
      "Enter the 2nd number:6\n",
      "addition of two numbers= 11\n"
     ]
    }
   ],
   "source": [
    "a=int(input(\"Enter the ist number:\"))\n",
    "b=int(input(\"Enter the 2nd number:\"))\n",
    "c=a+b\n",
    "print(\"addition of two numbers =\",c)"
   ]
  },
  {
   "cell_type": "code",
   "execution_count": null,
   "id": "f1073ca8",
   "metadata": {},
   "outputs": [],
   "source": []
  }
 ],
 "metadata": {
  "kernelspec": {
   "display_name": "Python 3 (ipykernel)",
   "language": "python",
   "name": "python3"
  },
  "language_info": {
   "codemirror_mode": {
    "name": "ipython",
    "version": 3
   },
   "file_extension": ".py",
   "mimetype": "text/x-python",
   "name": "python",
   "nbconvert_exporter": "python",
   "pygments_lexer": "ipython3",
   "version": "3.9.13"
  }
 },
 "nbformat": 4,
 "nbformat_minor": 5
}
