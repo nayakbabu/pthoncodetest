{
 "cells": [
  {
   "cell_type": "code",
   "execution_count": 1,
   "id": "26ee98c6",
   "metadata": {},
   "outputs": [
    {
     "data": {
      "text/plain": [
       "int"
      ]
     },
     "execution_count": 1,
     "metadata": {},
     "output_type": "execute_result"
    }
   ],
   "source": [
    "# Number Objects\n",
    "\n",
    "num = 2\n",
    "type(num)\n"
   ]
  },
  {
   "cell_type": "code",
   "execution_count": 2,
   "id": "8d54c891",
   "metadata": {},
   "outputs": [
    {
     "data": {
      "text/plain": [
       "float"
      ]
     },
     "execution_count": 2,
     "metadata": {},
     "output_type": "execute_result"
    }
   ],
   "source": [
    "type(2.0)"
   ]
  },
  {
   "cell_type": "code",
   "execution_count": 3,
   "id": "c5dd40e1",
   "metadata": {},
   "outputs": [
    {
     "data": {
      "text/plain": [
       "700"
      ]
     },
     "execution_count": 3,
     "metadata": {},
     "output_type": "execute_result"
    }
   ],
   "source": [
    "add = 345 + 355\n",
    "add"
   ]
  },
  {
   "cell_type": "code",
   "execution_count": 4,
   "id": "7073464d",
   "metadata": {},
   "outputs": [
    {
     "data": {
      "text/plain": [
       "148.79999999999998"
      ]
     },
     "execution_count": 4,
     "metadata": {},
     "output_type": "execute_result"
    }
   ],
   "source": [
    "62 * 2.4"
   ]
  },
  {
   "cell_type": "code",
   "execution_count": 5,
   "id": "c73302d5",
   "metadata": {},
   "outputs": [
    {
     "data": {
      "text/plain": [
       "155.0"
      ]
     },
     "execution_count": 5,
     "metadata": {},
     "output_type": "execute_result"
    }
   ],
   "source": [
    "62 * 2.5"
   ]
  },
  {
   "cell_type": "code",
   "execution_count": 6,
   "id": "b01937e6",
   "metadata": {},
   "outputs": [
    {
     "data": {
      "text/plain": [
       "16"
      ]
     },
     "execution_count": 6,
     "metadata": {},
     "output_type": "execute_result"
    }
   ],
   "source": [
    "2**4"
   ]
  },
  {
   "cell_type": "code",
   "execution_count": 7,
   "id": "927d9aad",
   "metadata": {},
   "outputs": [
    {
     "data": {
      "text/plain": [
       "3.141592653589793"
      ]
     },
     "execution_count": 7,
     "metadata": {},
     "output_type": "execute_result"
    }
   ],
   "source": [
    "import math\n",
    "math.pi"
   ]
  },
  {
   "cell_type": "code",
   "execution_count": 8,
   "id": "16e31dc5",
   "metadata": {},
   "outputs": [
    {
     "data": {
      "text/plain": [
       "0.30588756181429977"
      ]
     },
     "execution_count": 8,
     "metadata": {},
     "output_type": "execute_result"
    }
   ],
   "source": [
    "import random\n",
    "random.random()"
   ]
  },
  {
   "cell_type": "code",
   "execution_count": 9,
   "id": "c6c5c0f2",
   "metadata": {},
   "outputs": [
    {
     "name": "stdout",
     "output_type": "stream",
     "text": [
      "INDIA\n"
     ]
    }
   ],
   "source": [
    "# String Objects\n",
    "\n",
    "A = \"INDIA\"\n",
    "print(A)"
   ]
  },
  {
   "cell_type": "code",
   "execution_count": 10,
   "id": "aca04b62",
   "metadata": {},
   "outputs": [
    {
     "data": {
      "text/plain": [
       "'I'"
      ]
     },
     "execution_count": 10,
     "metadata": {},
     "output_type": "execute_result"
    }
   ],
   "source": [
    "A[0]"
   ]
  },
  {
   "cell_type": "code",
   "execution_count": 11,
   "id": "1c70e532",
   "metadata": {},
   "outputs": [
    {
     "data": {
      "text/plain": [
       "'D'"
      ]
     },
     "execution_count": 11,
     "metadata": {},
     "output_type": "execute_result"
    }
   ],
   "source": [
    "A[2]"
   ]
  },
  {
   "cell_type": "code",
   "execution_count": 12,
   "id": "c33cfa61",
   "metadata": {},
   "outputs": [
    {
     "data": {
      "text/plain": [
       "'A'"
      ]
     },
     "execution_count": 12,
     "metadata": {},
     "output_type": "execute_result"
    }
   ],
   "source": [
    "A[-1]"
   ]
  },
  {
   "cell_type": "code",
   "execution_count": 13,
   "id": "c0bc1f57",
   "metadata": {},
   "outputs": [
    {
     "data": {
      "text/plain": [
       "'NDIA'"
      ]
     },
     "execution_count": 13,
     "metadata": {},
     "output_type": "execute_result"
    }
   ],
   "source": [
    "A[1:]"
   ]
  },
  {
   "cell_type": "code",
   "execution_count": 14,
   "id": "eb444eb4",
   "metadata": {},
   "outputs": [
    {
     "name": "stdout",
     "output_type": "stream",
     "text": [
      "INDIAxyz\n"
     ]
    }
   ],
   "source": [
    "print(A + 'xyz')"
   ]
  },
  {
   "cell_type": "code",
   "execution_count": 15,
   "id": "417bd0d2",
   "metadata": {},
   "outputs": [
    {
     "data": {
      "text/plain": [
       "'INDIAINDIAINDIAINDIAINDIAINDIAINDIA'"
      ]
     },
     "execution_count": 15,
     "metadata": {},
     "output_type": "execute_result"
    }
   ],
   "source": [
    "A*7"
   ]
  },
  {
   "cell_type": "code",
   "execution_count": 16,
   "id": "cf3d5e9a",
   "metadata": {},
   "outputs": [
    {
     "data": {
      "text/plain": [
       "'INDXYZ'"
      ]
     },
     "execution_count": 16,
     "metadata": {},
     "output_type": "execute_result"
    }
   ],
   "source": [
    "A.replace('IA', 'XYZ')"
   ]
  },
  {
   "cell_type": "code",
   "execution_count": 18,
   "id": "aa7f36ee",
   "metadata": {},
   "outputs": [
    {
     "name": "stdout",
     "output_type": "stream",
     "text": [
      "[101, 'america', 2.05]\n"
     ]
    }
   ],
   "source": [
    "#list objects\n",
    "\n",
    "l1=[101,'america',2.05]\n",
    "print(l1)"
   ]
  },
  {
   "cell_type": "code",
   "execution_count": 19,
   "id": "3e0f546b",
   "metadata": {},
   "outputs": [
    {
     "data": {
      "text/plain": [
       "3"
      ]
     },
     "execution_count": 19,
     "metadata": {},
     "output_type": "execute_result"
    }
   ],
   "source": [
    "len(l1)"
   ]
  },
  {
   "cell_type": "code",
   "execution_count": 20,
   "id": "27eb5b39",
   "metadata": {},
   "outputs": [
    {
     "data": {
      "text/plain": [
       "'america'"
      ]
     },
     "execution_count": 20,
     "metadata": {},
     "output_type": "execute_result"
    }
   ],
   "source": [
    "l1[1]"
   ]
  },
  {
   "cell_type": "code",
   "execution_count": 21,
   "id": "8d0c6c37",
   "metadata": {},
   "outputs": [
    {
     "data": {
      "text/plain": [
       "2.05"
      ]
     },
     "execution_count": 21,
     "metadata": {},
     "output_type": "execute_result"
    }
   ],
   "source": [
    "l1[2]"
   ]
  },
  {
   "cell_type": "code",
   "execution_count": 23,
   "id": "5cc46379",
   "metadata": {},
   "outputs": [
    {
     "data": {
      "text/plain": [
       "101"
      ]
     },
     "execution_count": 23,
     "metadata": {},
     "output_type": "execute_result"
    }
   ],
   "source": [
    "l1[0]"
   ]
  },
  {
   "cell_type": "code",
   "execution_count": 24,
   "id": "2b38b0c2",
   "metadata": {},
   "outputs": [
    {
     "data": {
      "text/plain": [
       "[101, 'america']"
      ]
     },
     "execution_count": 24,
     "metadata": {},
     "output_type": "execute_result"
    }
   ],
   "source": [
    "l1[:-1]"
   ]
  },
  {
   "cell_type": "code",
   "execution_count": 25,
   "id": "f826438e",
   "metadata": {},
   "outputs": [
    {
     "data": {
      "text/plain": [
       "[101]"
      ]
     },
     "execution_count": 25,
     "metadata": {},
     "output_type": "execute_result"
    }
   ],
   "source": [
    "l1[:1]"
   ]
  },
  {
   "cell_type": "code",
   "execution_count": 30,
   "id": "ec39a8a8",
   "metadata": {},
   "outputs": [
    {
     "data": {
      "text/plain": [
       "[101, 'america', 2.05, 'europe', 'europe', 'europe']"
      ]
     },
     "execution_count": 30,
     "metadata": {},
     "output_type": "execute_result"
    }
   ],
   "source": [
    "l1.append('europe')\n",
    "l1"
   ]
  },
  {
   "cell_type": "code",
   "execution_count": 31,
   "id": "e2b04c22",
   "metadata": {},
   "outputs": [
    {
     "data": {
      "text/plain": [
       "'europe'"
      ]
     },
     "execution_count": 31,
     "metadata": {},
     "output_type": "execute_result"
    }
   ],
   "source": [
    "l1.pop(3)"
   ]
  },
  {
   "cell_type": "code",
   "execution_count": 34,
   "id": "4ed92251",
   "metadata": {},
   "outputs": [
    {
     "data": {
      "text/plain": [
       "[101, 'america', 2.05, 'europe', 'europe']"
      ]
     },
     "execution_count": 34,
     "metadata": {},
     "output_type": "execute_result"
    }
   ],
   "source": [
    "l1"
   ]
  },
  {
   "cell_type": "code",
   "execution_count": 35,
   "id": "4d3f0f38",
   "metadata": {},
   "outputs": [
    {
     "data": {
      "text/plain": [
       "'europe'"
      ]
     },
     "execution_count": 35,
     "metadata": {},
     "output_type": "execute_result"
    }
   ],
   "source": [
    "l1.pop(3)"
   ]
  },
  {
   "cell_type": "code",
   "execution_count": 36,
   "id": "e3a002bb",
   "metadata": {},
   "outputs": [
    {
     "data": {
      "text/plain": [
       "[101, 'america', 2.05, 'europe']"
      ]
     },
     "execution_count": 36,
     "metadata": {},
     "output_type": "execute_result"
    }
   ],
   "source": [
    "l1"
   ]
  },
  {
   "cell_type": "code",
   "execution_count": 38,
   "id": "7cbda11d",
   "metadata": {},
   "outputs": [
    {
     "name": "stdout",
     "output_type": "stream",
     "text": [
      "[101, 'america', 2.05, 'europe']\n"
     ]
    }
   ],
   "source": [
    "l1.reverse()\n",
    "print(l1)"
   ]
  },
  {
   "cell_type": "code",
   "execution_count": 39,
   "id": "dec3c621",
   "metadata": {},
   "outputs": [
    {
     "data": {
      "text/plain": [
       "['europe', 2.05, 'america', 101]"
      ]
     },
     "execution_count": 39,
     "metadata": {},
     "output_type": "execute_result"
    }
   ],
   "source": [
    "l1.reverse()\n",
    "l1"
   ]
  },
  {
   "cell_type": "code",
   "execution_count": 40,
   "id": "74557e35",
   "metadata": {},
   "outputs": [
    {
     "name": "stdout",
     "output_type": "stream",
     "text": [
      "{1: 'bmw', 2: 'audi', 3: 'swift dzire'}\n"
     ]
    }
   ],
   "source": [
    "#Dictionary type\n",
    "\n",
    "Dict1 = {1:\"bmw\",2:\"audi\",3:\"swift dzire\"}\n",
    "print(Dict1)"
   ]
  },
  {
   "cell_type": "code",
   "execution_count": 41,
   "id": "bfaa2980",
   "metadata": {},
   "outputs": [
    {
     "data": {
      "text/plain": [
       "dict_keys([1, 2, 3])"
      ]
     },
     "execution_count": 41,
     "metadata": {},
     "output_type": "execute_result"
    }
   ],
   "source": [
    "Dict1.keys()"
   ]
  },
  {
   "cell_type": "code",
   "execution_count": 42,
   "id": "f8ae4642",
   "metadata": {},
   "outputs": [
    {
     "data": {
      "text/plain": [
       "dict_values(['bmw', 'audi', 'swift dzire'])"
      ]
     },
     "execution_count": 42,
     "metadata": {},
     "output_type": "execute_result"
    }
   ],
   "source": [
    "Dict1.values()"
   ]
  },
  {
   "cell_type": "code",
   "execution_count": 43,
   "id": "0177a628",
   "metadata": {},
   "outputs": [
    {
     "data": {
      "text/plain": [
       "{1: 'bmw', 2: 'audi', 3: 'swift dzire', 4: 'nissan'}"
      ]
     },
     "execution_count": 43,
     "metadata": {},
     "output_type": "execute_result"
    }
   ],
   "source": [
    "Dict1[4] = 'nissan'\n",
    "Dict1"
   ]
  },
  {
   "cell_type": "code",
   "execution_count": 45,
   "id": "01874227",
   "metadata": {},
   "outputs": [
    {
     "name": "stdout",
     "output_type": "stream",
     "text": [
      "{1: 'bmw', 2: 'audi', 3: 'swift dzire', 4: 'nissan', 5: 'Tesla'}\n"
     ]
    }
   ],
   "source": [
    "Dict1[5] = 'Tesla'\n",
    "print(Dict1)"
   ]
  },
  {
   "cell_type": "code",
   "execution_count": null,
   "id": "0b2278d4",
   "metadata": {},
   "outputs": [],
   "source": []
  }
 ],
 "metadata": {
  "kernelspec": {
   "display_name": "Python 3 (ipykernel)",
   "language": "python",
   "name": "python3"
  },
  "language_info": {
   "codemirror_mode": {
    "name": "ipython",
    "version": 3
   },
   "file_extension": ".py",
   "mimetype": "text/x-python",
   "name": "python",
   "nbconvert_exporter": "python",
   "pygments_lexer": "ipython3",
   "version": "3.9.13"
  }
 },
 "nbformat": 4,
 "nbformat_minor": 5
}
