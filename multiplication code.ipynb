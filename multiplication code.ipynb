{
 "cells": [
  {
   "cell_type": "code",
   "execution_count": 1,
   "id": "a3e2b67e",
   "metadata": {},
   "outputs": [
    {
     "name": "stdout",
     "output_type": "stream",
     "text": [
      "Enter the First number:4\n",
      "Enter the Second number:5\n",
      "Enter the third number:5\n",
      "Multiplication of three number= 100\n"
     ]
    }
   ],
   "source": [
    "A=int(input(\"Enter the First number:\"))\n",
    "B=int(input(\"Enter the Second number:\"))\n",
    "C=int(input(\"Enter the third number:\"))\n",
    "D=A*B*C\n",
    "print(\"Multiplication of three number=\",D)\n"
   ]
  },
  {
   "cell_type": "code",
   "execution_count": null,
   "id": "d04ff91a",
   "metadata": {},
   "outputs": [],
   "source": []
  }
 ],
 "metadata": {
  "kernelspec": {
   "display_name": "Python 3 (ipykernel)",
   "language": "python",
   "name": "python3"
  },
  "language_info": {
   "codemirror_mode": {
    "name": "ipython",
    "version": 3
   },
   "file_extension": ".py",
   "mimetype": "text/x-python",
   "name": "python",
   "nbconvert_exporter": "python",
   "pygments_lexer": "ipython3",
   "version": "3.9.13"
  }
 },
 "nbformat": 4,
 "nbformat_minor": 5
}
